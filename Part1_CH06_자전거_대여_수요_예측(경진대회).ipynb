{
 "cells": [
  {
   "cell_type": "markdown",
   "metadata": {},
   "source": [
    "## 자전거 대여 수요 예측\n",
    "\n",
    "### Project Overview\n",
    "- 난이도 : *\n",
    "- 경진대회명 : 자전거 대여 수요 예측 경진대회\n",
    "- 목표 : 날짜, 계절, 근무일 여부, 날씨, 온도, 체감 온도, 풍속 데이터를 활용하여 자전거 대여 수량 예측\n",
    "- 문제 유형 : 회귀\n",
    "- 평가지표 : RMSLE\n",
    "- 제출 시 사용 모델 : Random Forest Regression\n",
    "- 사용 라이브러리 및 버전\n",
    "    - numpy==1.19.5\n",
    "    - pandas==1.3.2\n",
    "    - seaborn==0.11.2\n",
    "    - matplotlib==3.4.3\n",
    "    - scikit-learn==0.23.2\n",
    "    - datetime, calendar\n",
    "\n",
    "### 학습 목표\n",
    "- 머신러닝 모델링 프로세스와 기본적인 회귀 모델을 배움"
   ]
  },
  {
   "cell_type": "code",
   "execution_count": null,
   "metadata": {},
   "outputs": [],
   "source": []
  }
 ],
 "metadata": {
  "language_info": {
   "name": "python"
  },
  "orig_nbformat": 4
 },
 "nbformat": 4,
 "nbformat_minor": 2
}
